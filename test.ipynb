{
  "nbformat": 4,
  "nbformat_minor": 0,
  "metadata": {
    "colab": {
      "provenance": [],
      "authorship_tag": "ABX9TyNk5Vqsv8kU0AGtSkK/M6/p",
      "include_colab_link": true
    },
    "kernelspec": {
      "name": "python3",
      "display_name": "Python 3"
    },
    "language_info": {
      "name": "python"
    }
  },
  "cells": [
    {
      "cell_type": "markdown",
      "metadata": {
        "id": "view-in-github",
        "colab_type": "text"
      },
      "source": [
        "<a href=\"https://colab.research.google.com/github/ParasHarnagle/NBs/blob/main/test.ipynb\" target=\"_parent\"><img src=\"https://colab.research.google.com/assets/colab-badge.svg\" alt=\"Open In Colab\"/></a>"
      ]
    },
    {
      "cell_type": "code",
      "execution_count": 13,
      "metadata": {
        "id": "Z-xFbJFN-uYl"
      },
      "outputs": [],
      "source": [
        "#Create dataset as \"here\" link is not working\n",
        "# given find y at x=50 is a high regression case\n",
        "\n",
        "from sklearn.datasets import make_regression\n",
        "X,y = make_regression(n_samples=100, n_features=1)"
      ]
    },
    {
      "cell_type": "code",
      "source": [
        "X"
      ],
      "metadata": {
        "colab": {
          "base_uri": "https://localhost:8080/"
        },
        "id": "imiPFly4_XjF",
        "outputId": "0a63c923-57cd-4a67-9205-2609b2cbbf38"
      },
      "execution_count": 14,
      "outputs": [
        {
          "output_type": "execute_result",
          "data": {
            "text/plain": [
              "array([[-1.22557864e+00],\n",
              "       [-1.06649154e+00],\n",
              "       [ 2.99125610e-01],\n",
              "       [-7.85592582e-01],\n",
              "       [-3.71708752e-01],\n",
              "       [ 3.78951639e-01],\n",
              "       [ 6.51613089e-01],\n",
              "       [-4.79694100e-01],\n",
              "       [-1.31811751e+00],\n",
              "       [-1.28012793e+00],\n",
              "       [-8.65643935e-01],\n",
              "       [ 2.94457290e-01],\n",
              "       [ 1.89780153e+00],\n",
              "       [-3.16419135e-01],\n",
              "       [-2.18394158e+00],\n",
              "       [ 5.22080958e-01],\n",
              "       [ 1.50416070e+00],\n",
              "       [-2.26904165e+00],\n",
              "       [ 1.13221480e+00],\n",
              "       [ 1.62673832e+00],\n",
              "       [-9.40453040e-01],\n",
              "       [-4.66302508e-01],\n",
              "       [-7.82733870e-01],\n",
              "       [-1.01222634e+00],\n",
              "       [-8.48490269e-01],\n",
              "       [ 1.08633411e+00],\n",
              "       [ 1.32715806e+00],\n",
              "       [ 1.04588000e+00],\n",
              "       [-6.62071540e-01],\n",
              "       [-5.12522676e-01],\n",
              "       [ 4.37252502e-01],\n",
              "       [-2.20803008e+00],\n",
              "       [ 1.45569008e-01],\n",
              "       [ 2.78119608e-01],\n",
              "       [ 2.97342445e-01],\n",
              "       [ 1.85746721e-01],\n",
              "       [ 9.75066847e-01],\n",
              "       [-4.43183035e-01],\n",
              "       [ 1.07419906e+00],\n",
              "       [ 4.08770617e-01],\n",
              "       [ 8.01787448e-01],\n",
              "       [-1.39303068e+00],\n",
              "       [-9.07776223e-01],\n",
              "       [-8.14581971e-01],\n",
              "       [-8.71379499e-01],\n",
              "       [-8.17760547e-02],\n",
              "       [-5.37769885e-01],\n",
              "       [-1.43632815e-01],\n",
              "       [ 5.52172253e-01],\n",
              "       [-9.75365105e-01],\n",
              "       [ 1.32022110e+00],\n",
              "       [-5.63098805e-01],\n",
              "       [-6.47518541e-01],\n",
              "       [ 5.78143107e-01],\n",
              "       [ 4.95403737e-01],\n",
              "       [-1.26242239e+00],\n",
              "       [ 1.40021424e-01],\n",
              "       [ 5.21210391e-01],\n",
              "       [-1.04343079e+00],\n",
              "       [ 1.32936225e+00],\n",
              "       [-3.81641808e-01],\n",
              "       [-1.85819708e-01],\n",
              "       [-6.64107599e-01],\n",
              "       [-3.96456958e-01],\n",
              "       [ 5.93631641e-01],\n",
              "       [ 9.60494412e-01],\n",
              "       [ 7.62452175e-01],\n",
              "       [ 4.33870245e-01],\n",
              "       [-6.53329241e-01],\n",
              "       [-9.40841773e-01],\n",
              "       [-2.99484766e+00],\n",
              "       [-3.25366427e-01],\n",
              "       [-1.11772537e-01],\n",
              "       [-4.06455580e-01],\n",
              "       [-1.05179285e+00],\n",
              "       [ 5.50285477e-01],\n",
              "       [ 7.60759584e-01],\n",
              "       [-3.01117694e-01],\n",
              "       [ 1.77886119e+00],\n",
              "       [ 1.38753818e+00],\n",
              "       [ 1.60164058e+00],\n",
              "       [-3.98318379e-02],\n",
              "       [-5.96887958e-01],\n",
              "       [-4.75298302e-01],\n",
              "       [-9.82010177e-02],\n",
              "       [-5.86621648e-01],\n",
              "       [ 1.18013089e+00],\n",
              "       [-4.08771482e-01],\n",
              "       [-2.02755682e+00],\n",
              "       [-7.13400101e-04],\n",
              "       [ 1.52197221e+00],\n",
              "       [ 3.21591234e-01],\n",
              "       [ 1.02871339e+00],\n",
              "       [ 6.92809224e-01],\n",
              "       [-4.76386632e-01],\n",
              "       [-1.44278531e-01],\n",
              "       [ 2.07673560e+00],\n",
              "       [-7.16643570e-01],\n",
              "       [ 2.08960440e-01],\n",
              "       [ 5.70953095e-01]])"
            ]
          },
          "metadata": {},
          "execution_count": 14
        }
      ]
    },
    {
      "cell_type": "code",
      "source": [
        "y.shape"
      ],
      "metadata": {
        "colab": {
          "base_uri": "https://localhost:8080/"
        },
        "id": "eITdyQzS_YsU",
        "outputId": "97ffc65a-4c1f-4a1d-baf0-03c5a34c4f81"
      },
      "execution_count": 15,
      "outputs": [
        {
          "output_type": "execute_result",
          "data": {
            "text/plain": [
              "(100,)"
            ]
          },
          "metadata": {},
          "execution_count": 15
        }
      ]
    },
    {
      "cell_type": "code",
      "source": [
        "X.shape\n"
      ],
      "metadata": {
        "colab": {
          "base_uri": "https://localhost:8080/"
        },
        "id": "w5bKy4eE_Z5E",
        "outputId": "74d7dd5e-51cc-4d82-fefb-277dd11aff04"
      },
      "execution_count": 16,
      "outputs": [
        {
          "output_type": "execute_result",
          "data": {
            "text/plain": [
              "(100, 1)"
            ]
          },
          "metadata": {},
          "execution_count": 16
        }
      ]
    },
    {
      "cell_type": "code",
      "source": [
        "y = y.reshape(-1,1)"
      ],
      "metadata": {
        "id": "J2UzqRQM_ilg"
      },
      "execution_count": 17,
      "outputs": []
    },
    {
      "cell_type": "code",
      "source": [
        "y.shape"
      ],
      "metadata": {
        "colab": {
          "base_uri": "https://localhost:8080/"
        },
        "id": "KZxJ34aI_obM",
        "outputId": "2c1f3a9f-f6ac-473a-aed4-3aafbb081cb2"
      },
      "execution_count": 18,
      "outputs": [
        {
          "output_type": "execute_result",
          "data": {
            "text/plain": [
              "(100, 1)"
            ]
          },
          "metadata": {},
          "execution_count": 18
        }
      ]
    },
    {
      "cell_type": "code",
      "source": [
        "#create the model\n",
        "from sklearn.linear_model import LinearRegression\n",
        "\n",
        "X_train = X[:80]\n",
        "X_test = X[80:]\n",
        "y_train = y[:80]\n",
        "y_test = y[80:]"
      ],
      "metadata": {
        "id": "1C71-kO8_qT0"
      },
      "execution_count": 19,
      "outputs": []
    },
    {
      "cell_type": "code",
      "source": [
        "model = LinearRegression()\n",
        "model.fit(X,y)"
      ],
      "metadata": {
        "colab": {
          "base_uri": "https://localhost:8080/",
          "height": 75
        },
        "id": "cq1blBAjAN4I",
        "outputId": "0d76b5d9-b2f4-4d69-8904-719ce79f5211"
      },
      "execution_count": 20,
      "outputs": [
        {
          "output_type": "execute_result",
          "data": {
            "text/plain": [
              "LinearRegression()"
            ],
            "text/html": [
              "<style>#sk-container-id-2 {color: black;background-color: white;}#sk-container-id-2 pre{padding: 0;}#sk-container-id-2 div.sk-toggleable {background-color: white;}#sk-container-id-2 label.sk-toggleable__label {cursor: pointer;display: block;width: 100%;margin-bottom: 0;padding: 0.3em;box-sizing: border-box;text-align: center;}#sk-container-id-2 label.sk-toggleable__label-arrow:before {content: \"▸\";float: left;margin-right: 0.25em;color: #696969;}#sk-container-id-2 label.sk-toggleable__label-arrow:hover:before {color: black;}#sk-container-id-2 div.sk-estimator:hover label.sk-toggleable__label-arrow:before {color: black;}#sk-container-id-2 div.sk-toggleable__content {max-height: 0;max-width: 0;overflow: hidden;text-align: left;background-color: #f0f8ff;}#sk-container-id-2 div.sk-toggleable__content pre {margin: 0.2em;color: black;border-radius: 0.25em;background-color: #f0f8ff;}#sk-container-id-2 input.sk-toggleable__control:checked~div.sk-toggleable__content {max-height: 200px;max-width: 100%;overflow: auto;}#sk-container-id-2 input.sk-toggleable__control:checked~label.sk-toggleable__label-arrow:before {content: \"▾\";}#sk-container-id-2 div.sk-estimator input.sk-toggleable__control:checked~label.sk-toggleable__label {background-color: #d4ebff;}#sk-container-id-2 div.sk-label input.sk-toggleable__control:checked~label.sk-toggleable__label {background-color: #d4ebff;}#sk-container-id-2 input.sk-hidden--visually {border: 0;clip: rect(1px 1px 1px 1px);clip: rect(1px, 1px, 1px, 1px);height: 1px;margin: -1px;overflow: hidden;padding: 0;position: absolute;width: 1px;}#sk-container-id-2 div.sk-estimator {font-family: monospace;background-color: #f0f8ff;border: 1px dotted black;border-radius: 0.25em;box-sizing: border-box;margin-bottom: 0.5em;}#sk-container-id-2 div.sk-estimator:hover {background-color: #d4ebff;}#sk-container-id-2 div.sk-parallel-item::after {content: \"\";width: 100%;border-bottom: 1px solid gray;flex-grow: 1;}#sk-container-id-2 div.sk-label:hover label.sk-toggleable__label {background-color: #d4ebff;}#sk-container-id-2 div.sk-serial::before {content: \"\";position: absolute;border-left: 1px solid gray;box-sizing: border-box;top: 0;bottom: 0;left: 50%;z-index: 0;}#sk-container-id-2 div.sk-serial {display: flex;flex-direction: column;align-items: center;background-color: white;padding-right: 0.2em;padding-left: 0.2em;position: relative;}#sk-container-id-2 div.sk-item {position: relative;z-index: 1;}#sk-container-id-2 div.sk-parallel {display: flex;align-items: stretch;justify-content: center;background-color: white;position: relative;}#sk-container-id-2 div.sk-item::before, #sk-container-id-2 div.sk-parallel-item::before {content: \"\";position: absolute;border-left: 1px solid gray;box-sizing: border-box;top: 0;bottom: 0;left: 50%;z-index: -1;}#sk-container-id-2 div.sk-parallel-item {display: flex;flex-direction: column;z-index: 1;position: relative;background-color: white;}#sk-container-id-2 div.sk-parallel-item:first-child::after {align-self: flex-end;width: 50%;}#sk-container-id-2 div.sk-parallel-item:last-child::after {align-self: flex-start;width: 50%;}#sk-container-id-2 div.sk-parallel-item:only-child::after {width: 0;}#sk-container-id-2 div.sk-dashed-wrapped {border: 1px dashed gray;margin: 0 0.4em 0.5em 0.4em;box-sizing: border-box;padding-bottom: 0.4em;background-color: white;}#sk-container-id-2 div.sk-label label {font-family: monospace;font-weight: bold;display: inline-block;line-height: 1.2em;}#sk-container-id-2 div.sk-label-container {text-align: center;}#sk-container-id-2 div.sk-container {/* jupyter's `normalize.less` sets `[hidden] { display: none; }` but bootstrap.min.css set `[hidden] { display: none !important; }` so we also need the `!important` here to be able to override the default hidden behavior on the sphinx rendered scikit-learn.org. See: https://github.com/scikit-learn/scikit-learn/issues/21755 */display: inline-block !important;position: relative;}#sk-container-id-2 div.sk-text-repr-fallback {display: none;}</style><div id=\"sk-container-id-2\" class=\"sk-top-container\"><div class=\"sk-text-repr-fallback\"><pre>LinearRegression()</pre><b>In a Jupyter environment, please rerun this cell to show the HTML representation or trust the notebook. <br />On GitHub, the HTML representation is unable to render, please try loading this page with nbviewer.org.</b></div><div class=\"sk-container\" hidden><div class=\"sk-item\"><div class=\"sk-estimator sk-toggleable\"><input class=\"sk-toggleable__control sk-hidden--visually\" id=\"sk-estimator-id-2\" type=\"checkbox\" checked><label for=\"sk-estimator-id-2\" class=\"sk-toggleable__label sk-toggleable__label-arrow\">LinearRegression</label><div class=\"sk-toggleable__content\"><pre>LinearRegression()</pre></div></div></div></div></div>"
            ]
          },
          "metadata": {},
          "execution_count": 20
        }
      ]
    },
    {
      "cell_type": "code",
      "source": [
        "y_pred_at_50 = model.predict([[50.]])\n",
        "y_pred_at_50"
      ],
      "metadata": {
        "colab": {
          "base_uri": "https://localhost:8080/"
        },
        "id": "O57pYRuHATlk",
        "outputId": "b0f2e1e6-7755-462a-873a-ae0a652392df"
      },
      "execution_count": 21,
      "outputs": [
        {
          "output_type": "execute_result",
          "data": {
            "text/plain": [
              "array([[1785.47192222]])"
            ]
          },
          "metadata": {},
          "execution_count": 21
        }
      ]
    },
    {
      "cell_type": "code",
      "source": [],
      "metadata": {
        "id": "yhVLfKCfAdR2"
      },
      "execution_count": null,
      "outputs": []
    }
  ]
}