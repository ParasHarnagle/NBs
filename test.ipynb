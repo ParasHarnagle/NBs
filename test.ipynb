{
  "nbformat": 4,
  "nbformat_minor": 0,
  "metadata": {
    "colab": {
      "provenance": [],
      "authorship_tag": "ABX9TyN60qDv3CuHokVwLLcbB8Q6",
      "include_colab_link": true
    },
    "kernelspec": {
      "name": "python3",
      "display_name": "Python 3"
    },
    "language_info": {
      "name": "python"
    }
  },
  "cells": [
    {
      "cell_type": "markdown",
      "metadata": {
        "id": "view-in-github",
        "colab_type": "text"
      },
      "source": [
        "<a href=\"https://colab.research.google.com/github/ParasHarnagle/NBs/blob/main/test.ipynb\" target=\"_parent\"><img src=\"https://colab.research.google.com/assets/colab-badge.svg\" alt=\"Open In Colab\"/></a>"
      ]
    },
    {
      "cell_type": "markdown",
      "source": [
        "On examining this dataset , it is a sinosidal  wave thus can take models where continous regression is the case, here trend, seasonality is being repated thus a multivariate ARIMA model or LSTM model would be a good option, along wiht some ensemble algos like xgboost\n"
      ],
      "metadata": {
        "id": "cgZCeiwzAosU"
      }
    },
    {
      "cell_type": "code",
      "execution_count": 92,
      "metadata": {
        "id": "Z-xFbJFN-uYl"
      },
      "outputs": [],
      "source": [
        "#dataset scr-dataset.csv\n",
        "\n",
        "import pandas as pd\n",
        "import numpy as np\n",
        "data = pd.read_csv(\"scr-dataset.csv\")"
      ]
    },
    {
      "cell_type": "code",
      "source": [
        "data.info()\n"
      ],
      "metadata": {
        "colab": {
          "base_uri": "https://localhost:8080/"
        },
        "id": "imiPFly4_XjF",
        "outputId": "07073a0f-82eb-4dfe-8fa4-505e7a635fff",
        "collapsed": true
      },
      "execution_count": 82,
      "outputs": [
        {
          "output_type": "stream",
          "name": "stdout",
          "text": [
            "<class 'pandas.core.frame.DataFrame'>\n",
            "RangeIndex: 440 entries, 0 to 439\n",
            "Data columns (total 2 columns):\n",
            " #   Column  Non-Null Count  Dtype  \n",
            "---  ------  --------------  -----  \n",
            " 0   x       440 non-null    float64\n",
            " 1   y       440 non-null    float64\n",
            "dtypes: float64(2)\n",
            "memory usage: 7.0 KB\n"
          ]
        }
      ]
    },
    {
      "cell_type": "code",
      "source": [
        "data.head()"
      ],
      "metadata": {
        "colab": {
          "base_uri": "https://localhost:8080/",
          "height": 206
        },
        "id": "eITdyQzS_YsU",
        "outputId": "21deb2d8-d009-426f-d6e9-292e58077194"
      },
      "execution_count": 101,
      "outputs": [
        {
          "output_type": "execute_result",
          "data": {
            "text/plain": [
              "     x         y\n",
              "0  1.0  1.750768\n",
              "1  1.1  1.699704\n",
              "2  1.2  1.607502\n",
              "3  1.3  1.479060\n",
              "4  1.4  1.320438"
            ],
            "text/html": [
              "\n",
              "  <div id=\"df-68dc8559-4eb0-4227-aa41-d4b7d0ce7a8c\" class=\"colab-df-container\">\n",
              "    <div>\n",
              "<style scoped>\n",
              "    .dataframe tbody tr th:only-of-type {\n",
              "        vertical-align: middle;\n",
              "    }\n",
              "\n",
              "    .dataframe tbody tr th {\n",
              "        vertical-align: top;\n",
              "    }\n",
              "\n",
              "    .dataframe thead th {\n",
              "        text-align: right;\n",
              "    }\n",
              "</style>\n",
              "<table border=\"1\" class=\"dataframe\">\n",
              "  <thead>\n",
              "    <tr style=\"text-align: right;\">\n",
              "      <th></th>\n",
              "      <th>x</th>\n",
              "      <th>y</th>\n",
              "    </tr>\n",
              "  </thead>\n",
              "  <tbody>\n",
              "    <tr>\n",
              "      <th>0</th>\n",
              "      <td>1.0</td>\n",
              "      <td>1.750768</td>\n",
              "    </tr>\n",
              "    <tr>\n",
              "      <th>1</th>\n",
              "      <td>1.1</td>\n",
              "      <td>1.699704</td>\n",
              "    </tr>\n",
              "    <tr>\n",
              "      <th>2</th>\n",
              "      <td>1.2</td>\n",
              "      <td>1.607502</td>\n",
              "    </tr>\n",
              "    <tr>\n",
              "      <th>3</th>\n",
              "      <td>1.3</td>\n",
              "      <td>1.479060</td>\n",
              "    </tr>\n",
              "    <tr>\n",
              "      <th>4</th>\n",
              "      <td>1.4</td>\n",
              "      <td>1.320438</td>\n",
              "    </tr>\n",
              "  </tbody>\n",
              "</table>\n",
              "</div>\n",
              "    <div class=\"colab-df-buttons\">\n",
              "\n",
              "  <div class=\"colab-df-container\">\n",
              "    <button class=\"colab-df-convert\" onclick=\"convertToInteractive('df-68dc8559-4eb0-4227-aa41-d4b7d0ce7a8c')\"\n",
              "            title=\"Convert this dataframe to an interactive table.\"\n",
              "            style=\"display:none;\">\n",
              "\n",
              "  <svg xmlns=\"http://www.w3.org/2000/svg\" height=\"24px\" viewBox=\"0 -960 960 960\">\n",
              "    <path d=\"M120-120v-720h720v720H120Zm60-500h600v-160H180v160Zm220 220h160v-160H400v160Zm0 220h160v-160H400v160ZM180-400h160v-160H180v160Zm440 0h160v-160H620v160ZM180-180h160v-160H180v160Zm440 0h160v-160H620v160Z\"/>\n",
              "  </svg>\n",
              "    </button>\n",
              "\n",
              "  <style>\n",
              "    .colab-df-container {\n",
              "      display:flex;\n",
              "      gap: 12px;\n",
              "    }\n",
              "\n",
              "    .colab-df-convert {\n",
              "      background-color: #E8F0FE;\n",
              "      border: none;\n",
              "      border-radius: 50%;\n",
              "      cursor: pointer;\n",
              "      display: none;\n",
              "      fill: #1967D2;\n",
              "      height: 32px;\n",
              "      padding: 0 0 0 0;\n",
              "      width: 32px;\n",
              "    }\n",
              "\n",
              "    .colab-df-convert:hover {\n",
              "      background-color: #E2EBFA;\n",
              "      box-shadow: 0px 1px 2px rgba(60, 64, 67, 0.3), 0px 1px 3px 1px rgba(60, 64, 67, 0.15);\n",
              "      fill: #174EA6;\n",
              "    }\n",
              "\n",
              "    .colab-df-buttons div {\n",
              "      margin-bottom: 4px;\n",
              "    }\n",
              "\n",
              "    [theme=dark] .colab-df-convert {\n",
              "      background-color: #3B4455;\n",
              "      fill: #D2E3FC;\n",
              "    }\n",
              "\n",
              "    [theme=dark] .colab-df-convert:hover {\n",
              "      background-color: #434B5C;\n",
              "      box-shadow: 0px 1px 3px 1px rgba(0, 0, 0, 0.15);\n",
              "      filter: drop-shadow(0px 1px 2px rgba(0, 0, 0, 0.3));\n",
              "      fill: #FFFFFF;\n",
              "    }\n",
              "  </style>\n",
              "\n",
              "    <script>\n",
              "      const buttonEl =\n",
              "        document.querySelector('#df-68dc8559-4eb0-4227-aa41-d4b7d0ce7a8c button.colab-df-convert');\n",
              "      buttonEl.style.display =\n",
              "        google.colab.kernel.accessAllowed ? 'block' : 'none';\n",
              "\n",
              "      async function convertToInteractive(key) {\n",
              "        const element = document.querySelector('#df-68dc8559-4eb0-4227-aa41-d4b7d0ce7a8c');\n",
              "        const dataTable =\n",
              "          await google.colab.kernel.invokeFunction('convertToInteractive',\n",
              "                                                    [key], {});\n",
              "        if (!dataTable) return;\n",
              "\n",
              "        const docLinkHtml = 'Like what you see? Visit the ' +\n",
              "          '<a target=\"_blank\" href=https://colab.research.google.com/notebooks/data_table.ipynb>data table notebook</a>'\n",
              "          + ' to learn more about interactive tables.';\n",
              "        element.innerHTML = '';\n",
              "        dataTable['output_type'] = 'display_data';\n",
              "        await google.colab.output.renderOutput(dataTable, element);\n",
              "        const docLink = document.createElement('div');\n",
              "        docLink.innerHTML = docLinkHtml;\n",
              "        element.appendChild(docLink);\n",
              "      }\n",
              "    </script>\n",
              "  </div>\n",
              "\n",
              "\n",
              "<div id=\"df-16dea13f-b66a-4b76-bcce-eef0e5becaff\">\n",
              "  <button class=\"colab-df-quickchart\" onclick=\"quickchart('df-16dea13f-b66a-4b76-bcce-eef0e5becaff')\"\n",
              "            title=\"Suggest charts\"\n",
              "            style=\"display:none;\">\n",
              "\n",
              "<svg xmlns=\"http://www.w3.org/2000/svg\" height=\"24px\"viewBox=\"0 0 24 24\"\n",
              "     width=\"24px\">\n",
              "    <g>\n",
              "        <path d=\"M19 3H5c-1.1 0-2 .9-2 2v14c0 1.1.9 2 2 2h14c1.1 0 2-.9 2-2V5c0-1.1-.9-2-2-2zM9 17H7v-7h2v7zm4 0h-2V7h2v10zm4 0h-2v-4h2v4z\"/>\n",
              "    </g>\n",
              "</svg>\n",
              "  </button>\n",
              "\n",
              "<style>\n",
              "  .colab-df-quickchart {\n",
              "      --bg-color: #E8F0FE;\n",
              "      --fill-color: #1967D2;\n",
              "      --hover-bg-color: #E2EBFA;\n",
              "      --hover-fill-color: #174EA6;\n",
              "      --disabled-fill-color: #AAA;\n",
              "      --disabled-bg-color: #DDD;\n",
              "  }\n",
              "\n",
              "  [theme=dark] .colab-df-quickchart {\n",
              "      --bg-color: #3B4455;\n",
              "      --fill-color: #D2E3FC;\n",
              "      --hover-bg-color: #434B5C;\n",
              "      --hover-fill-color: #FFFFFF;\n",
              "      --disabled-bg-color: #3B4455;\n",
              "      --disabled-fill-color: #666;\n",
              "  }\n",
              "\n",
              "  .colab-df-quickchart {\n",
              "    background-color: var(--bg-color);\n",
              "    border: none;\n",
              "    border-radius: 50%;\n",
              "    cursor: pointer;\n",
              "    display: none;\n",
              "    fill: var(--fill-color);\n",
              "    height: 32px;\n",
              "    padding: 0;\n",
              "    width: 32px;\n",
              "  }\n",
              "\n",
              "  .colab-df-quickchart:hover {\n",
              "    background-color: var(--hover-bg-color);\n",
              "    box-shadow: 0 1px 2px rgba(60, 64, 67, 0.3), 0 1px 3px 1px rgba(60, 64, 67, 0.15);\n",
              "    fill: var(--button-hover-fill-color);\n",
              "  }\n",
              "\n",
              "  .colab-df-quickchart-complete:disabled,\n",
              "  .colab-df-quickchart-complete:disabled:hover {\n",
              "    background-color: var(--disabled-bg-color);\n",
              "    fill: var(--disabled-fill-color);\n",
              "    box-shadow: none;\n",
              "  }\n",
              "\n",
              "  .colab-df-spinner {\n",
              "    border: 2px solid var(--fill-color);\n",
              "    border-color: transparent;\n",
              "    border-bottom-color: var(--fill-color);\n",
              "    animation:\n",
              "      spin 1s steps(1) infinite;\n",
              "  }\n",
              "\n",
              "  @keyframes spin {\n",
              "    0% {\n",
              "      border-color: transparent;\n",
              "      border-bottom-color: var(--fill-color);\n",
              "      border-left-color: var(--fill-color);\n",
              "    }\n",
              "    20% {\n",
              "      border-color: transparent;\n",
              "      border-left-color: var(--fill-color);\n",
              "      border-top-color: var(--fill-color);\n",
              "    }\n",
              "    30% {\n",
              "      border-color: transparent;\n",
              "      border-left-color: var(--fill-color);\n",
              "      border-top-color: var(--fill-color);\n",
              "      border-right-color: var(--fill-color);\n",
              "    }\n",
              "    40% {\n",
              "      border-color: transparent;\n",
              "      border-right-color: var(--fill-color);\n",
              "      border-top-color: var(--fill-color);\n",
              "    }\n",
              "    60% {\n",
              "      border-color: transparent;\n",
              "      border-right-color: var(--fill-color);\n",
              "    }\n",
              "    80% {\n",
              "      border-color: transparent;\n",
              "      border-right-color: var(--fill-color);\n",
              "      border-bottom-color: var(--fill-color);\n",
              "    }\n",
              "    90% {\n",
              "      border-color: transparent;\n",
              "      border-bottom-color: var(--fill-color);\n",
              "    }\n",
              "  }\n",
              "</style>\n",
              "\n",
              "  <script>\n",
              "    async function quickchart(key) {\n",
              "      const quickchartButtonEl =\n",
              "        document.querySelector('#' + key + ' button');\n",
              "      quickchartButtonEl.disabled = true;  // To prevent multiple clicks.\n",
              "      quickchartButtonEl.classList.add('colab-df-spinner');\n",
              "      try {\n",
              "        const charts = await google.colab.kernel.invokeFunction(\n",
              "            'suggestCharts', [key], {});\n",
              "      } catch (error) {\n",
              "        console.error('Error during call to suggestCharts:', error);\n",
              "      }\n",
              "      quickchartButtonEl.classList.remove('colab-df-spinner');\n",
              "      quickchartButtonEl.classList.add('colab-df-quickchart-complete');\n",
              "    }\n",
              "    (() => {\n",
              "      let quickchartButtonEl =\n",
              "        document.querySelector('#df-16dea13f-b66a-4b76-bcce-eef0e5becaff button');\n",
              "      quickchartButtonEl.style.display =\n",
              "        google.colab.kernel.accessAllowed ? 'block' : 'none';\n",
              "    })();\n",
              "  </script>\n",
              "</div>\n",
              "\n",
              "    </div>\n",
              "  </div>\n"
            ],
            "application/vnd.google.colaboratory.intrinsic+json": {
              "type": "dataframe",
              "variable_name": "data",
              "summary": "{\n  \"name\": \"data\",\n  \"rows\": 440,\n  \"fields\": [\n    {\n      \"column\": \"x\",\n      \"properties\": {\n        \"dtype\": \"number\",\n        \"std\": 12.716131487209477,\n        \"min\": 1.0,\n        \"max\": 44.90000000000004,\n        \"num_unique_values\": 440,\n        \"samples\": [\n          27.500000000000025,\n          8.800000000000008,\n          35.70000000000003\n        ],\n        \"semantic_type\": \"\",\n        \"description\": \"\"\n      }\n    },\n    {\n      \"column\": \"y\",\n      \"properties\": {\n        \"dtype\": \"number\",\n        \"std\": 1.0015609917322403,\n        \"min\": -1.760149076214442,\n        \"max\": 1.760160354956124,\n        \"num_unique_values\": 440,\n        \"samples\": [\n          -0.3005151417035387,\n          -0.3639273050263636,\n          -0.1540264460941653\n        ],\n        \"semantic_type\": \"\",\n        \"description\": \"\"\n      }\n    }\n  ]\n}"
            }
          },
          "metadata": {},
          "execution_count": 101
        }
      ]
    },
    {
      "cell_type": "code",
      "source": [
        "# training on whole dataset as objective is to find y at x = 50\n",
        "X = data['x']\n",
        "X.shape"
      ],
      "metadata": {
        "id": "J2UzqRQM_ilg",
        "outputId": "e117502f-4a59-4b91-f92a-913225040328",
        "colab": {
          "base_uri": "https://localhost:8080/"
        }
      },
      "execution_count": 84,
      "outputs": [
        {
          "output_type": "execute_result",
          "data": {
            "text/plain": [
              "(440,)"
            ]
          },
          "metadata": {},
          "execution_count": 84
        }
      ]
    },
    {
      "cell_type": "code",
      "source": [
        "#checking 50 exist in dataset\n",
        "val = (X==50).any().any()\n",
        "val"
      ],
      "metadata": {
        "id": "sZniFdRGpmI1",
        "outputId": "743d7170-ef81-4dde-a972-4868a89ebe87",
        "colab": {
          "base_uri": "https://localhost:8080/"
        }
      },
      "execution_count": 85,
      "outputs": [
        {
          "output_type": "execute_result",
          "data": {
            "text/plain": [
              "False"
            ]
          },
          "metadata": {},
          "execution_count": 85
        }
      ]
    },
    {
      "cell_type": "code",
      "source": [
        "y = data['y']\n",
        "y.shape\n"
      ],
      "metadata": {
        "colab": {
          "base_uri": "https://localhost:8080/"
        },
        "id": "KZxJ34aI_obM",
        "outputId": "bf5a7019-5a15-4875-b8ec-9f06df542343"
      },
      "execution_count": 86,
      "outputs": [
        {
          "output_type": "execute_result",
          "data": {
            "text/plain": [
              "(440,)"
            ]
          },
          "metadata": {},
          "execution_count": 86
        }
      ]
    },
    {
      "cell_type": "code",
      "source": [
        "# plotting the data to verify\n",
        "\n",
        "import matplotlib.pyplot as plt\n",
        "\n",
        "plt.figure(figsize=(15,7))\n",
        "plt.scatter(X,y,color='green')\n",
        "plt.scatter(X,y)\n",
        "plt.show()"
      ],
      "metadata": {
        "id": "yhVLfKCfAdR2",
        "outputId": "9324da23-79f7-40b0-96f3-ab80dbc911f5",
        "colab": {
          "base_uri": "https://localhost:8080/",
          "height": 599
        }
      },
      "execution_count": 165,
      "outputs": [
        {
          "output_type": "display_data",
          "data": {
            "text/plain": [
              "<Figure size 1500x700 with 1 Axes>"
            ],
            "image/png": "[encoded data removed]"
          },
          "metadata": {}
        }
      ]
    },
    {
      "cell_type": "code",
      "source": [
        "def create_dataset(X, y, time_step=10):\n",
        "    Xs, ys = [], []\n",
        "    for i in range(len(X)-time_step-1):\n",
        "        Xs.append(X[i:(i+time_step), 0])\n",
        "        ys.append(y[i + time_step, 0])\n",
        "    return np.array(Xs), np.array(ys)"
      ],
      "metadata": {
        "id": "JplB4HSR1WM_"
      },
      "execution_count": 131,
      "outputs": []
    },
    {
      "cell_type": "code",
      "source": [
        "data = pd.read_csv(\"scr-dataset.csv\")\n",
        "X = data['x'].values.reshape(-1, 1)\n",
        "y = data['y'].values.reshape(-1, 1)\n",
        "\n",
        "\n",
        "from sklearn.preprocessing import MinMaxScaler\n",
        "\n",
        "scaler_X = MinMaxScaler()\n",
        "scaler_y = MinMaxScaler()\n",
        "X_scaled = scaler_X.fit_transform(X)\n",
        "y_scaled = scaler_y.fit_transform(y)"
      ],
      "metadata": {
        "id": "BINM6Y565Vcu"
      },
      "execution_count": 156,
      "outputs": []
    },
    {
      "cell_type": "code",
      "source": [
        "time_step = 10\n",
        "#X_train, y_train = create_dataset(X, y,time_step)\n",
        "X_train, y_train = create_dataset(X_scaled, y_scaled, time_step)"
      ],
      "metadata": {
        "id": "69aOFWmr5Cm1"
      },
      "execution_count": 157,
      "outputs": []
    },
    {
      "cell_type": "code",
      "source": [
        "X_train = X_train.reshape(X_train.shape[0], X_train.shape[1], 1)\n",
        "import tensorflow as tf"
      ],
      "metadata": {
        "id": "KPvpjUcR5Ky7"
      },
      "execution_count": 175,
      "outputs": []
    },
    {
      "cell_type": "code",
      "source": [
        "model = tf.keras.Sequential([\n",
        "    tf.keras.layers.LSTM(50, return_sequences= True, input_shape=(time_step,1)),\n",
        "    tf.keras.layers.LSTM(50,return_sequences= True),\n",
        "    tf.keras.layers.Dropout(0.2),\n",
        "    tf.keras.layers.LSTM(50),\n",
        "    tf.keras.layers.Dense(1)\n",
        "])\n",
        "\n",
        "model.compile(optimizer='adam', loss='mse')\n"
      ],
      "metadata": {
        "id": "feebn0Lq6EpD"
      },
      "execution_count": 185,
      "outputs": []
    },
    {
      "cell_type": "code",
      "source": [
        "model.fit(X_train, y_train, epochs=100, batch_size=32)"
      ],
      "metadata": {
        "id": "rg6Gg6fT6Hrl",
        "outputId": "08c7760d-5606-43bb-f836-e199782d7056",
        "colab": {
          "base_uri": "https://localhost:8080/"
        }
      },
      "execution_count": 183,
      "outputs": [
        {
          "output_type": "stream",
          "name": "stdout",
          "text": [
            "Epoch 1/100\n",
            "14/14 [==============================] - 6s 17ms/step - loss: 0.1640\n",
            "Epoch 2/100\n",
            "14/14 [==============================] - 0s 17ms/step - loss: 0.0998\n",
            "Epoch 3/100\n",
            "14/14 [==============================] - 0s 19ms/step - loss: 0.0885\n",
            "Epoch 4/100\n",
            "14/14 [==============================] - 0s 18ms/step - loss: 0.0857\n",
            "Epoch 5/100\n",
            "14/14 [==============================] - 0s 24ms/step - loss: 0.0824\n",
            "Epoch 6/100\n",
            "14/14 [==============================] - 0s 30ms/step - loss: 0.0814\n",
            "Epoch 7/100\n",
            "14/14 [==============================] - 0s 28ms/step - loss: 0.0823\n",
            "Epoch 8/100\n",
            "14/14 [==============================] - 0s 27ms/step - loss: 0.0813\n",
            "Epoch 9/100\n",
            "14/14 [==============================] - 0s 27ms/step - loss: 0.0805\n",
            "Epoch 10/100\n",
            "14/14 [==============================] - 0s 28ms/step - loss: 0.0796\n",
            "Epoch 11/100\n",
            "14/14 [==============================] - 0s 28ms/step - loss: 0.0799\n",
            "Epoch 12/100\n",
            "14/14 [==============================] - 0s 29ms/step - loss: 0.0804\n",
            "Epoch 13/100\n",
            "14/14 [==============================] - 0s 28ms/step - loss: 0.0805\n",
            "Epoch 14/100\n",
            "14/14 [==============================] - 0s 28ms/step - loss: 0.0796\n",
            "Epoch 15/100\n",
            "14/14 [==============================] - 0s 28ms/step - loss: 0.0803\n",
            "Epoch 16/100\n",
            "14/14 [==============================] - 0s 28ms/step - loss: 0.0816\n",
            "Epoch 17/100\n",
            "14/14 [==============================] - 0s 19ms/step - loss: 0.0809\n",
            "Epoch 18/100\n",
            "14/14 [==============================] - 0s 18ms/step - loss: 0.0798\n",
            "Epoch 19/100\n",
            "14/14 [==============================] - 0s 18ms/step - loss: 0.0797\n",
            "Epoch 20/100\n",
            "14/14 [==============================] - 0s 18ms/step - loss: 0.0794\n",
            "Epoch 21/100\n",
            "14/14 [==============================] - 0s 19ms/step - loss: 0.0797\n",
            "Epoch 22/100\n",
            "14/14 [==============================] - 0s 18ms/step - loss: 0.0800\n",
            "Epoch 23/100\n",
            "14/14 [==============================] - 0s 18ms/step - loss: 0.0803\n",
            "Epoch 24/100\n",
            "14/14 [==============================] - 0s 18ms/step - loss: 0.0827\n",
            "Epoch 25/100\n",
            "14/14 [==============================] - 0s 18ms/step - loss: 0.0799\n",
            "Epoch 26/100\n",
            "14/14 [==============================] - 0s 18ms/step - loss: 0.0810\n",
            "Epoch 27/100\n",
            "14/14 [==============================] - 0s 17ms/step - loss: 0.0800\n",
            "Epoch 28/100\n",
            "14/14 [==============================] - 0s 18ms/step - loss: 0.0803\n",
            "Epoch 29/100\n",
            "14/14 [==============================] - 0s 18ms/step - loss: 0.0801\n",
            "Epoch 30/100\n",
            "14/14 [==============================] - 0s 18ms/step - loss: 0.0816\n",
            "Epoch 31/100\n",
            "14/14 [==============================] - 0s 18ms/step - loss: 0.0807\n",
            "Epoch 32/100\n",
            "14/14 [==============================] - 0s 17ms/step - loss: 0.0798\n",
            "Epoch 33/100\n",
            "14/14 [==============================] - 0s 19ms/step - loss: 0.0808\n",
            "Epoch 34/100\n",
            "14/14 [==============================] - 0s 17ms/step - loss: 0.0795\n",
            "Epoch 35/100\n",
            "14/14 [==============================] - 0s 18ms/step - loss: 0.0796\n",
            "Epoch 36/100\n",
            "14/14 [==============================] - 0s 20ms/step - loss: 0.0806\n",
            "Epoch 37/100\n",
            "14/14 [==============================] - 0s 19ms/step - loss: 0.0815\n",
            "Epoch 38/100\n",
            "14/14 [==============================] - 0s 18ms/step - loss: 0.0794\n",
            "Epoch 39/100\n",
            "14/14 [==============================] - 0s 18ms/step - loss: 0.0805\n",
            "Epoch 40/100\n",
            "14/14 [==============================] - 0s 17ms/step - loss: 0.0805\n",
            "Epoch 41/100\n",
            "14/14 [==============================] - 0s 19ms/step - loss: 0.0807\n",
            "Epoch 42/100\n",
            "14/14 [==============================] - 0s 18ms/step - loss: 0.0799\n",
            "Epoch 43/100\n",
            "14/14 [==============================] - 0s 18ms/step - loss: 0.0810\n",
            "Epoch 44/100\n",
            "14/14 [==============================] - 0s 18ms/step - loss: 0.0798\n",
            "Epoch 45/100\n",
            "14/14 [==============================] - 0s 19ms/step - loss: 0.0792\n",
            "Epoch 46/100\n",
            "14/14 [==============================] - 0s 18ms/step - loss: 0.0807\n",
            "Epoch 47/100\n",
            "14/14 [==============================] - 0s 18ms/step - loss: 0.0798\n",
            "Epoch 48/100\n",
            "14/14 [==============================] - 0s 18ms/step - loss: 0.0796\n",
            "Epoch 49/100\n",
            "14/14 [==============================] - 0s 19ms/step - loss: 0.0796\n",
            "Epoch 50/100\n",
            "14/14 [==============================] - 0s 18ms/step - loss: 0.0797\n",
            "Epoch 51/100\n",
            "14/14 [==============================] - 0s 18ms/step - loss: 0.0796\n",
            "Epoch 52/100\n",
            "14/14 [==============================] - 0s 18ms/step - loss: 0.0793\n",
            "Epoch 53/100\n",
            "14/14 [==============================] - 0s 19ms/step - loss: 0.0798\n",
            "Epoch 54/100\n",
            "14/14 [==============================] - 0s 17ms/step - loss: 0.0797\n",
            "Epoch 55/100\n",
            "14/14 [==============================] - 0s 24ms/step - loss: 0.0799\n",
            "Epoch 56/100\n",
            "14/14 [==============================] - 0s 28ms/step - loss: 0.0799\n",
            "Epoch 57/100\n",
            "14/14 [==============================] - 0s 27ms/step - loss: 0.0795\n",
            "Epoch 58/100\n",
            "14/14 [==============================] - 0s 29ms/step - loss: 0.0794\n",
            "Epoch 59/100\n",
            "14/14 [==============================] - 0s 28ms/step - loss: 0.0801\n",
            "Epoch 60/100\n",
            "14/14 [==============================] - 0s 29ms/step - loss: 0.0799\n",
            "Epoch 61/100\n",
            "14/14 [==============================] - 0s 28ms/step - loss: 0.0798\n",
            "Epoch 62/100\n",
            "14/14 [==============================] - 0s 31ms/step - loss: 0.0800\n",
            "Epoch 63/100\n",
            "14/14 [==============================] - 0s 28ms/step - loss: 0.0802\n",
            "Epoch 64/100\n",
            "14/14 [==============================] - 0s 30ms/step - loss: 0.0801\n",
            "Epoch 65/100\n",
            "14/14 [==============================] - 0s 29ms/step - loss: 0.0799\n",
            "Epoch 66/100\n",
            "14/14 [==============================] - 0s 23ms/step - loss: 0.0796\n",
            "Epoch 67/100\n",
            "14/14 [==============================] - 0s 19ms/step - loss: 0.0795\n",
            "Epoch 68/100\n",
            "14/14 [==============================] - 0s 17ms/step - loss: 0.0800\n",
            "Epoch 69/100\n",
            "14/14 [==============================] - 0s 18ms/step - loss: 0.0802\n",
            "Epoch 70/100\n",
            "14/14 [==============================] - 0s 18ms/step - loss: 0.0802\n",
            "Epoch 71/100\n",
            "14/14 [==============================] - 0s 18ms/step - loss: 0.0797\n",
            "Epoch 72/100\n",
            "14/14 [==============================] - 0s 17ms/step - loss: 0.0813\n",
            "Epoch 73/100\n",
            "14/14 [==============================] - 0s 17ms/step - loss: 0.0801\n",
            "Epoch 74/100\n",
            "14/14 [==============================] - 0s 17ms/step - loss: 0.0808\n",
            "Epoch 75/100\n",
            "14/14 [==============================] - 0s 18ms/step - loss: 0.0799\n",
            "Epoch 76/100\n",
            "14/14 [==============================] - 0s 18ms/step - loss: 0.0810\n",
            "Epoch 77/100\n",
            "14/14 [==============================] - 0s 28ms/step - loss: 0.0804\n",
            "Epoch 78/100\n",
            "14/14 [==============================] - 0s 36ms/step - loss: 0.0800\n",
            "Epoch 79/100\n",
            "14/14 [==============================] - 0s 30ms/step - loss: 0.0809\n",
            "Epoch 80/100\n",
            "14/14 [==============================] - 0s 17ms/step - loss: 0.0805\n",
            "Epoch 81/100\n",
            "14/14 [==============================] - 0s 19ms/step - loss: 0.0810\n",
            "Epoch 82/100\n",
            "14/14 [==============================] - 0s 18ms/step - loss: 0.0800\n",
            "Epoch 83/100\n",
            "14/14 [==============================] - 0s 18ms/step - loss: 0.0801\n",
            "Epoch 84/100\n",
            "14/14 [==============================] - 0s 18ms/step - loss: 0.0815\n",
            "Epoch 85/100\n",
            "14/14 [==============================] - 0s 22ms/step - loss: 0.0822\n",
            "Epoch 86/100\n",
            "14/14 [==============================] - 0s 18ms/step - loss: 0.0804\n",
            "Epoch 87/100\n",
            "14/14 [==============================] - 0s 17ms/step - loss: 0.0804\n",
            "Epoch 88/100\n",
            "14/14 [==============================] - 0s 18ms/step - loss: 0.0795\n",
            "Epoch 89/100\n",
            "14/14 [==============================] - 0s 19ms/step - loss: 0.0816\n",
            "Epoch 90/100\n",
            "14/14 [==============================] - 0s 20ms/step - loss: 0.0805\n",
            "Epoch 91/100\n",
            "14/14 [==============================] - 0s 20ms/step - loss: 0.0792\n",
            "Epoch 92/100\n",
            "14/14 [==============================] - 0s 18ms/step - loss: 0.0808\n",
            "Epoch 93/100\n",
            "14/14 [==============================] - 0s 19ms/step - loss: 0.0810\n",
            "Epoch 94/100\n",
            "14/14 [==============================] - 0s 18ms/step - loss: 0.0796\n",
            "Epoch 95/100\n",
            "14/14 [==============================] - 0s 18ms/step - loss: 0.0802\n",
            "Epoch 96/100\n",
            "14/14 [==============================] - 0s 18ms/step - loss: 0.0794\n",
            "Epoch 97/100\n",
            "14/14 [==============================] - 0s 19ms/step - loss: 0.0796\n",
            "Epoch 98/100\n",
            "14/14 [==============================] - 0s 18ms/step - loss: 0.0812\n",
            "Epoch 99/100\n",
            "14/14 [==============================] - 0s 18ms/step - loss: 0.0793\n",
            "Epoch 100/100\n",
            "14/14 [==============================] - 0s 18ms/step - loss: 0.0794\n"
          ]
        },
        {
          "output_type": "execute_result",
          "data": {
            "text/plain": [
              "<keras.src.callbacks.History at 0x7cc7262fe500>"
            ]
          },
          "metadata": {},
          "execution_count": 183
        }
      ]
    },
    {
      "cell_type": "code",
      "source": [
        "# Predict the value at x = 50\n",
        "x_val = np.array([[50]])\n",
        "x_val_scaled = scaler_X.transform(x_val)\n",
        "\n",
        "x_val_sequence = np.array([X_scaled[-time_step:]]).reshape(1, time_step, 1)\n",
        "\n",
        "y_pred_scaled = model.predict(x_val_sequence)\n",
        "y_pred = scaler_y.inverse_transform(y_pred_scaled)\n",
        "{y_pred[0][0]}"
      ],
      "metadata": {
        "id": "RY2Srk406o_k",
        "outputId": "27672aa8-cf5f-42f8-8e8c-6c8fec79b1b7",
        "colab": {
          "base_uri": "https://localhost:8080/"
        }
      },
      "execution_count": 184,
      "outputs": [
        {
          "output_type": "stream",
          "name": "stdout",
          "text": [
            "1/1 [==============================] - 2s 2s/step\n"
          ]
        },
        {
          "output_type": "execute_result",
          "data": {
            "text/plain": [
              "{-0.067185305}"
            ]
          },
          "metadata": {},
          "execution_count": 184
        }
      ]
    },
    {
      "cell_type": "code",
      "source": [
        "#from the dataset the value is near to zero for x=50\n",
        "# {-0.067185305} value for y\n"
      ],
      "metadata": {
        "id": "rDMyyShd7zH2"
      },
      "execution_count": null,
      "outputs": []
    }
  ]
}